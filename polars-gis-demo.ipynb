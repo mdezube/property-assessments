{
 "cells": [
  {
   "cell_type": "markdown",
   "id": "7c671f23-e4c9-4efe-ab2d-5835157cbab2",
   "metadata": {},
   "source": [
    "# Imports, data load and cleaning"
   ]
  },
  {
   "cell_type": "code",
   "execution_count": null,
   "id": "0b716143-80a9-4b1a-9072-f56f773229dc",
   "metadata": {},
   "outputs": [],
   "source": [
    "import timeit\n",
    "\n",
    "import itables\n",
    "import polars as pl\n",
    "import pandas as pd\n",
    "import plotly.express as px\n",
    "import plotly.io as pio\n",
    "import seaborn as sns\n",
    "\n",
    "sns.set_theme()\n",
    "\n",
    "pl.Config.set_fmt_str_lengths(250)\n",
    "pl.Config.set_tbl_rows(40)\n",
    "\n",
    "import jupyter_black\n",
    "\n",
    "jupyter_black.load(line_length=120)"
   ]
  },
  {
   "cell_type": "markdown",
   "id": "5182c545-45f9-419f-9fce-6d37a5c053a8",
   "metadata": {},
   "source": [
    "Let's load in all tax assessments for the 2.54M properties in MA as of 2023.\n",
    "\n",
    "Data sourced from https://www.mass.gov/info-details/massgis-data-property-tax-parcels as GIS files, but I also made a CSV extract available at https://drive.google.com/file/d/1h8sZ3U2nmurJ5BxfngAdhQfb0U13ladB/view?usp=drive_link\n",
    "\n",
    "Note the term \"town\" is used interchangeably with \"city\""
   ]
  },
  {
   "cell_type": "code",
   "execution_count": null,
   "id": "73ffd4ad-8d18-4394-954d-486840fa2018",
   "metadata": {},
   "outputs": [],
   "source": [
    "# TODO(you): Update these paths to match where you downloaded the CSV assessments file and the\n",
    "# boundary files.\n",
    "\n",
    "# Home prices as an easy to use CSV.\n",
    "# Update to point to where you downloaded the CSV file per the README.\n",
    "MA_HOME_PRICES_CSV_PATH = \"../ma-home-prices/mass_building_assessments_2023.csv\"\n",
    "\n",
    "# State parcels, used for town boundaries.\n",
    "# Update to point to where you downloaded the CSV file per the README.\n",
    "PARCEL_BOUNDARIES_GDB = \"../ma-home-prices/mass_parcels_2024/MassGIS_L3_Parcels.gdb\"\n",
    "\n",
    "# Property parcels, used for individual property boundaries.\n",
    "# In theory the file above has the data in the file below, but due to a corruption issue we can't pull it so we load both.\n",
    "# Update to point to where you downloaded the CSV file per the README.\n",
    "PARCEL_BOUNDARIES_EAST_SHP = \"/Users/mdezube/Documents/QGIS/Reference Data/MA Full Dataset/MassGIS SHP format/gisdata/men1/parcels/L3_TAXPAR_POLY_ASSESS_EAST.shp\""
   ]
  },
  {
   "cell_type": "markdown",
   "id": "846bd3e1",
   "metadata": {},
   "source": []
  },
  {
   "cell_type": "code",
   "execution_count": null,
   "id": "54c43de5-ebc5-4043-b106-6c09589308e5",
   "metadata": {},
   "outputs": [],
   "source": [
    "start = timeit.default_timer()\n",
    "\n",
    "assessments = pl.read_csv(\n",
    "    MA_HOME_PRICES_CSV_PATH,\n",
    "    infer_schema_length=250000,\n",
    "    dtypes={\"ZIP\": pl.Utf8},\n",
    ")\n",
    "\n",
    "end = timeit.default_timer()\n",
    "print(f\"Loaded data in {end - start:0.1f} seconds\")"
   ]
  },
  {
   "cell_type": "markdown",
   "id": "ad30699d-95b5-4755-8fa2-069ffcf7e0d8",
   "metadata": {},
   "source": [
    "## How does pandas compare in speed?"
   ]
  },
  {
   "cell_type": "code",
   "execution_count": null,
   "id": "07ec7fce-ad98-4dcc-8467-7bc452526326",
   "metadata": {},
   "outputs": [],
   "source": [
    "start = timeit.default_timer()\n",
    "\n",
    "pandas_df = pd.read_csv(MA_HOME_PRICES_CSV_PATH, low_memory=False)\n",
    "\n",
    "end = timeit.default_timer()\n",
    "print(f\"Loaded data in {end - start:0.1f} seconds\")"
   ]
  },
  {
   "cell_type": "markdown",
   "id": "4ea7278c-176a-4c1e-b0e9-9e3d887e6387",
   "metadata": {},
   "source": [
    "## How does pandas compare in memory usage?"
   ]
  },
  {
   "cell_type": "code",
   "execution_count": null,
   "id": "8cd852d3-9852-4c15-8711-db8b76910d25",
   "metadata": {},
   "outputs": [],
   "source": [
    "pandas_df.info(memory_usage=\"deep\", verbose=False)"
   ]
  },
  {
   "cell_type": "code",
   "execution_count": null,
   "id": "138e40e2-6f9b-4fcd-976c-bb6c7d87db81",
   "metadata": {},
   "outputs": [],
   "source": [
    "del pandas_df"
   ]
  },
  {
   "cell_type": "markdown",
   "id": "a9b772b9-a0f8-4875-95ee-3fda900fbe9b",
   "metadata": {},
   "source": [
    "**Out of core compuation** \n",
    "\n",
    "We won't do it today, but you can stream a CSV  to load only part of a CSV that wouldn't fit in memory, see https://docs.pola.rs/py-polars/html/reference/api/polars.scan_csv.html"
   ]
  },
  {
   "cell_type": "code",
   "execution_count": null,
   "id": "a48c36e3-1177-4a7e-8f0a-41c559fbb8e3",
   "metadata": {},
   "outputs": [],
   "source": [
    "# Clean up a few column names and content\n",
    "assessments = assessments.rename({\"TOWN_ID\": \"TAXING_TOWN_ID\", \"CITY\": \"LOCAL_TOWN\"})\n",
    "assessments = assessments.with_columns(\n",
    "    pl.col(\"LOCAL_TOWN\").str.to_uppercase(),\n",
    "    pl.col(\"LS_DATE\").cast(pl.Utf8).str.to_date(\"%Y%m%d\", strict=False),\n",
    "    pl.col(\"OWNER1\").str.replace(r\"COMMONWLTH\\b|COMMWLTH\\b\", \"COMMONWEALTH\").str.replace(r\"MASS\\b\", \"MASSACHUSETTS\"),\n",
    ")\n",
    "assessments = assessments.with_columns(pl.col(\"LS_DATE\").dt.year().alias(\"ls_year\"))\n",
    "\n",
    "print(f\"{assessments.shape[0]:,} rows at {round(assessments.estimated_size(unit='gb'), 1)}GB\")"
   ]
  },
  {
   "cell_type": "markdown",
   "id": "ca81efdd-08c1-427f-a2d6-b3387c4f7a55",
   "metadata": {},
   "source": [
    "# Data exploration"
   ]
  },
  {
   "cell_type": "code",
   "execution_count": null,
   "id": "57c0e8d4-3a15-4a6f-910b-3851880cf263",
   "metadata": {},
   "outputs": [],
   "source": [
    "assessments[1000:1005]"
   ]
  },
  {
   "cell_type": "code",
   "execution_count": null,
   "id": "e87a19e6-e8ed-4a3e-b6d7-1fdcea577cfc",
   "metadata": {},
   "outputs": [],
   "source": [
    "# Join in official town names to their IDs.\n",
    "town_id_to_name = pl.read_csv(\"town_id_to_name.csv\")\n",
    "town_id_to_name = town_id_to_name.rename({\"TOWN\": \"TAXING_TOWN\"})\n",
    "assessments = assessments.join(\n",
    "    town_id_to_name,\n",
    "    left_on=\"TAXING_TOWN_ID\",\n",
    "    right_on=\"TOWN_ID\",\n",
    ")"
   ]
  },
  {
   "cell_type": "markdown",
   "id": "233df914-67d6-4889-a1e9-b836e48a5b47",
   "metadata": {},
   "source": [
    "Three main contexts in polars, i.e. ways to view the data:\n",
    "\n",
    "1. Selection: df.select(...), df.with_columns(...)\n",
    "2. Filtering: df.filter()\n",
    "3. Group by / Aggregation: df.group_by(...).agg(...)\n",
    "\n",
    "But don't worry, standard items likes pivots, joins, melts etc are also supported."
   ]
  },
  {
   "cell_type": "markdown",
   "id": "571cd13d-72c5-4257-8900-fa293c58f70c",
   "metadata": {},
   "source": [
    "## Selection"
   ]
  },
  {
   "cell_type": "code",
   "execution_count": null,
   "id": "6321c1a5-7a57-4c55-8a80-baea1ba2451b",
   "metadata": {},
   "outputs": [],
   "source": [
    "# Average parcel value in MA, includes commercial and residential and gov't.\n",
    "assessments.select(\n",
    "    pl.col(\"BLDG_VAL\").mean().alias(\"BLDG_VAL_mean\"),\n",
    "    pl.col(\"LAND_VAL\").mean().alias(\"LAND_VAL_mean\"),\n",
    "    pl.col(\"BLDG_VAL\").sum().alias(\"BLDG_VAL_sum\"),\n",
    "    pl.col(\"LAND_VAL\").sum().alias(\"LAND_VAL_sum\"),\n",
    ")"
   ]
  },
  {
   "cell_type": "markdown",
   "id": "7e34b85b-143a-4e02-ace7-63d6efb6c297",
   "metadata": {},
   "source": [
    "### Select columns by regex"
   ]
  },
  {
   "cell_type": "code",
   "execution_count": null,
   "id": "4169fcef-07f1-4047-abfb-9bca466ff10b",
   "metadata": {
    "scrolled": true
   },
   "outputs": [],
   "source": [
    "# Shorthand for selecting columns by a regex.  Wrap it in ^$\n",
    "assessments.select(pl.col(\"^*_VAL$\")).mean()"
   ]
  },
  {
   "cell_type": "markdown",
   "id": "4c0e3191-e901-4e0b-b1c1-2968b36b2f0a",
   "metadata": {},
   "source": [
    "### Select columns by type"
   ]
  },
  {
   "cell_type": "code",
   "execution_count": null,
   "id": "6cfb1dbe-7924-46b4-87cb-f15e93ee3ee7",
   "metadata": {},
   "outputs": [],
   "source": [
    "# Shorthand for selecting columns by type.  Very useful if we want the averages for every column\n",
    "# where that concept is valid.\n",
    "assessments.select(pl.col(pl.Int64, pl.UInt32, pl.Float32, pl.Float64)).mean()"
   ]
  },
  {
   "cell_type": "code",
   "execution_count": null,
   "id": "060bbeb2-fb6b-4e40-aea9-5bf35b9e7306",
   "metadata": {},
   "outputs": [],
   "source": [
    "# For clarity, let's drop some IDs we won't use.\n",
    "assessments = assessments.select(\n",
    "    pl.exclude(\n",
    "        [\n",
    "            \"PROP_ID\",\n",
    "            \"LOC_ID\",\n",
    "            \"MA_PROP_ID\",\n",
    "            \"ZONING\",\n",
    "            \"FULL_STR_STD\",\n",
    "            \"CAMA_ID\",\n",
    "            \"REG_ID\",\n",
    "            \"LOCATION\",\n",
    "        ]\n",
    "    )\n",
    ")"
   ]
  },
  {
   "cell_type": "markdown",
   "id": "e714cfc9-5197-465e-9cc6-51302a662ae4",
   "metadata": {},
   "source": [
    "## Filtering"
   ]
  },
  {
   "cell_type": "code",
   "execution_count": null,
   "id": "a6bf58a6-939a-4149-b1e3-bcebfbd1399a",
   "metadata": {},
   "outputs": [],
   "source": [
    "# Let's look at Newton!\n",
    "\n",
    "_df = assessments.filter(pl.col(\"LOCAL_TOWN\") == \"BOSTON\")\n",
    "itables.show(_df.to_pandas(), maxBytes=1024 * 1024, column_filters=\"footer\")"
   ]
  },
  {
   "cell_type": "code",
   "execution_count": null,
   "id": "43511ad8-9fd2-4158-a55a-824e9dbd33c0",
   "metadata": {},
   "outputs": [],
   "source": [
    "# What about properties owned by Boston University in Boston?\n",
    "# As a non profit you can generally look up the total assets through public filings – for those interested!\n",
    "\n",
    "_df = assessments.filter(pl.col(\"OWNER1\").str.to_uppercase().str.contains(\"BOSTON UNIVERSITY\")).sort(\n",
    "    by=\"TOTAL_VAL\", descending=True\n",
    ")\n",
    "\n",
    "print(f\"Total value: ${_df.select('TOTAL_VAL').sum().item():,}\\n\")\n",
    "\n",
    "itables.show(_df.to_pandas(), maxBytes=1024 * 1024 * 5, column_filters=\"footer\")"
   ]
  },
  {
   "cell_type": "markdown",
   "id": "3b2990b0-3b01-434e-b344-150895b9d372",
   "metadata": {},
   "source": [
    "## Groups bys"
   ]
  },
  {
   "cell_type": "code",
   "execution_count": null,
   "id": "4bd7909c-f003-4496-bcb7-596f39d24d09",
   "metadata": {},
   "outputs": [],
   "source": [
    "assessments.filter(pl.col(\"TAXING_TOWN\") == \"BOSTON\").shape"
   ]
  },
  {
   "cell_type": "markdown",
   "id": "78d9bd82-36be-48cb-9b2e-5291be604700",
   "metadata": {},
   "source": [
    "### What towns are owned by parent towns?"
   ]
  },
  {
   "cell_type": "code",
   "execution_count": null,
   "id": "355ebea7-5bf5-4c9c-ab6f-728db5f0058b",
   "metadata": {},
   "outputs": [],
   "source": [
    "pl.Config.set_fmt_table_cell_list_len(10)\n",
    "\n",
    "_df = (\n",
    "    assessments.group_by(pl.col(\"TAXING_TOWN\"))\n",
    "    .agg(pl.col(\"LOCAL_TOWN\").unique().sort(), pl.col(\"LOCAL_TOWN\").n_unique().alias(\"n_reporting_towns\"))\n",
    "    .filter(pl.col(\"n_reporting_towns\") > 1)\n",
    "    .sort(by=\"n_reporting_towns\", descending=True)\n",
    ")\n",
    "\n",
    "_df.head(10)"
   ]
  },
  {
   "cell_type": "markdown",
   "id": "cb4b14aa-ea98-404e-89b7-50b51f219901",
   "metadata": {},
   "source": [
    "### Top property owners in Boston"
   ]
  },
  {
   "cell_type": "code",
   "execution_count": null,
   "id": "3ac28083-24f2-4e2a-8861-89ef7a3957bb",
   "metadata": {},
   "outputs": [],
   "source": [
    "# Who owns Boston?\n",
    "# Admittedly there is nuance here, e.g. Boston University's owners are sometimes \"Trustees of Boston University\", but\n",
    "# others times \"Trustees\" is abbreviated.  Important to clean up to get more precise results.\n",
    "\n",
    "_df = (\n",
    "    assessments.filter(pl.col(\"TAXING_TOWN\") == \"BOSTON\")\n",
    "    .group_by(pl.col(\"OWNER1\"))\n",
    "    .agg(\n",
    "        pl.col(\"TOTAL_VAL\").sum(),\n",
    "    )\n",
    "    .with_columns((100 * pl.col(\"TOTAL_VAL\") / pl.col(\"TOTAL_VAL\").sum()).alias(\"% of Total\"))\n",
    "    .to_pandas()\n",
    "    .sort_values(by=\"TOTAL_VAL\", ascending=False)\n",
    "    .reset_index(drop=True)\n",
    ")\n",
    "\n",
    "_df[:20].style.format(thousands=\",\", precision=2)"
   ]
  },
  {
   "cell_type": "markdown",
   "id": "f92c286e-d5c9-49ec-8b87-b791a0eaf66e",
   "metadata": {},
   "source": [
    "### Average home value by town"
   ]
  },
  {
   "cell_type": "code",
   "execution_count": null,
   "id": "bc202836-7439-4b21-83b8-c6fa43dcbcdf",
   "metadata": {},
   "outputs": [],
   "source": [
    "# Now let's ask questions by use code/area, i.e. let's ask:\n",
    "# What are the average residential home values by town?  Avg cost per sqft?  Etc.\n",
    "\n",
    "# Use CODES\n",
    "# 101 ......Single Family\n",
    "# 102 ......Condominium\n",
    "# 103 ......Mobile Home (includes land used for purpose of a mobile home park)\n",
    "# 104 ......Two-Family\n",
    "# 105 ......Three-Family\n",
    "# 106 ......Accessory Land with Improvement - garage, etc.\n",
    "# 107 ......(Intentionally left blank)\n",
    "# 108 ......(Intentionally left blank)\n",
    "# 109 ......Multiple Houses on one parcel (for example, a single and a two-family on one parcel)\n",
    "\n",
    "residential = assessments.filter(pl.col(\"USE_CODE\").str.contains(\"^10[1-9]\"))\n",
    "residential_price_analysis = (\n",
    "    residential.group_by([\"TAXING_TOWN\", \"TAXING_TOWN_ID\"])\n",
    "    .agg(\n",
    "        pl.col(\"LOCAL_TOWN\"),\n",
    "        pl.sum(\"BLDG_VAL\").alias(\"bldg_val_sum\"),\n",
    "        pl.sum(\"LAND_VAL\").alias(\"land_val_sum\"),\n",
    "        pl.sum(\"OTHER_VAL\").alias(\"other_val_sum\"),\n",
    "        pl.sum(\"TOTAL_VAL\").alias(\"total_val_sum\"),\n",
    "        pl.mean(\"TOTAL_VAL\").alias(\"total_val_avg\"),\n",
    "        pl.mean(\"RES_AREA\").alias(\"res_area_avg\"),\n",
    "        pl.median(\"RES_AREA\").alias(\"res_area_median\"),\n",
    "        (pl.sum(\"TOTAL_VAL\") / pl.sum(\"RES_AREA\")).alias(\"cost_per_sq_ft\"),\n",
    "        pl.count(\"BLDG_VAL\").alias(\"num_buildings\"),\n",
    "    )\n",
    "    .sort(by=\"total_val_avg\", descending=True)\n",
    "    .with_columns(pl.col(\"LOCAL_TOWN\").list.unique())\n",
    ")\n",
    "# We convert to pandas at the end just so we can format the numbers with commas.\n",
    "residential_price_analysis.head(20).to_pandas().style.format(thousands=\",\", precision=0)"
   ]
  },
  {
   "cell_type": "code",
   "execution_count": null,
   "id": "19555e98-4149-4774-8ecb-2fcb7bfc3153",
   "metadata": {},
   "outputs": [],
   "source": [
    "# Above we see more than one city name per town ID, how can this be?"
   ]
  },
  {
   "cell_type": "code",
   "execution_count": null,
   "id": "4f9f816d-4a6a-4e83-91aa-4380b735421c",
   "metadata": {},
   "outputs": [],
   "source": [
    "# Output is also hard to read and needs formatting, let's convert to pandas for that.\n",
    "\n",
    "# Only pull the columns we care about.\n",
    "residential_price_analysis_pd = residential_price_analysis.select(\n",
    "    [\n",
    "        \"TAXING_TOWN\",\n",
    "        \"TAXING_TOWN_ID\",\n",
    "        \"total_val_avg\",\n",
    "        \"res_area_avg\",\n",
    "        \"cost_per_sq_ft\",\n",
    "        \"num_buildings\",\n",
    "        \"LOCAL_TOWN\",\n",
    "    ]\n",
    ").to_pandas()\n",
    "# Top twenty towns by their average home value.\n",
    "residential_price_analysis_pd.head(50).style.format(thousands=\",\", precision=0)"
   ]
  },
  {
   "cell_type": "code",
   "execution_count": null,
   "id": "d9d93cbb-c50a-4e1f-be33-01171c1ce3ed",
   "metadata": {},
   "outputs": [],
   "source": [
    "ax = sns.barplot(\n",
    "    data=residential_price_analysis_pd[:25],\n",
    "    x=\"total_val_avg\",\n",
    "    y=\"TAXING_TOWN\",\n",
    "    palette=\"flare\",\n",
    "    hue=\"total_val_avg\",\n",
    ")\n",
    "ax.set(xlabel=\"Average Home Value\", ylabel=\"Town\")"
   ]
  },
  {
   "cell_type": "markdown",
   "id": "0b060702-cdec-473b-adc1-106b8279ca5b",
   "metadata": {},
   "source": [
    "# GIS"
   ]
  },
  {
   "cell_type": "markdown",
   "id": "cbe3d858-f8f0-4e63-a7e1-6185e1445bfb",
   "metadata": {},
   "source": [
    "## Average property value by town"
   ]
  },
  {
   "cell_type": "markdown",
   "id": "d17e6c72-7f34-4f97-b66a-4f1b0432d311",
   "metadata": {},
   "source": [
    "### Load in the boundaries for each town"
   ]
  },
  {
   "cell_type": "code",
   "execution_count": null,
   "id": "380edcf0-9b73-4c06-b770-58e32c49683f",
   "metadata": {},
   "outputs": [],
   "source": [
    "import fiona\n",
    "import folium\n",
    "import geopandas as gpd\n",
    "\n",
    "layers = [layer for layer in fiona.listlayers(PARCEL_BOUNDARIES_GDB)]\n",
    "print(layers)\n",
    "\n",
    "town_boundaries = gpd.read_file(PARCEL_BOUNDARIES_GDB, layer=\"L3_TOWNFY\", use_arrow=True)\n",
    "town_boundaries.TOWN = town_boundaries.TOWN.str.upper()\n",
    "town_boundaries.head(1)"
   ]
  },
  {
   "cell_type": "markdown",
   "id": "a7a9b407-535d-422d-9612-63c2dd8f6bc2",
   "metadata": {},
   "source": [
    "### Choropleth visual"
   ]
  },
  {
   "cell_type": "code",
   "execution_count": null,
   "id": "b5f47921-6706-4c59-b7d1-48dd507ab36c",
   "metadata": {},
   "outputs": [],
   "source": [
    "_df = town_boundaries.merge(\n",
    "    residential_price_analysis_pd,\n",
    "    left_on=\"TOWN_ID\",\n",
    "    right_on=\"TAXING_TOWN_ID\",\n",
    ").drop(\"LOCAL_TOWN\", axis=\"columns\")\n",
    "\n",
    "# Cap the avg value at 1.5M so Nantucket doesn't destroy the legend.\n",
    "_df[\"total_val_avg\"] = _df[\"total_val_avg\"].apply(lambda x: max(min(x, 1500000), 150000))\n",
    "_df.explore(\n",
    "    \"total_val_avg\",\n",
    "    style_kwds={\"fillOpacity\": 0.8},\n",
    "    cmap=\"viridis\",\n",
    "    legend=True,\n",
    "    k=10,\n",
    "    scheme=\"equal_interval\",\n",
    "    legend_kwds={\n",
    "        \"colorbar\": False,\n",
    "        \"caption\": \"Average home value (clipped to .15M - 1.5M]\",\n",
    "        \"max_labels\": 5,\n",
    "        \"fmt\": \"{:.0f}\",\n",
    "    },\n",
    ")"
   ]
  },
  {
   "cell_type": "markdown",
   "id": "b3e4b546-7622-4f7e-8ce7-1cd23738b2f7",
   "metadata": {},
   "source": [
    "## View individual homes"
   ]
  },
  {
   "cell_type": "code",
   "execution_count": null,
   "id": "59409236-f4a2-4f58-a798-580e56bc68cc",
   "metadata": {
    "scrolled": true
   },
   "outputs": [],
   "source": [
    "import warnings\n",
    "import geopandas as gpd\n",
    "\n",
    "# A trick to silence warnings, but only specifically from one imported module as not to hide important ones.\n",
    "warnings.filterwarnings(\"ignore\", module=\"pyogrio\")\n",
    "\n",
    "parcel_boundaries = gpd.read_file(\n",
    "    # We use this shape file for now as the .gdb file that has east and west together has some invalid geometries that can't be loaded\n",
    "    # via pyogrio.\n",
    "    PARCEL_BOUNDARIES_EAST_SHP,\n",
    "    engine=\"pyogrio\",\n",
    "    use_arrow=True,\n",
    ")\n",
    "parcel_boundaries = parcel_boundaries.set_index([\"TOWN_ID\", \"PROP_ID\"])\n",
    "parcel_boundaries[\"total_val_clip\"] = parcel_boundaries[\"TOTAL_VAL\"].clip(0, 5000000)"
   ]
  },
  {
   "cell_type": "code",
   "execution_count": null,
   "id": "54c873bf-5792-477a-8bac-7d9419be75cd",
   "metadata": {},
   "outputs": [],
   "source": [
    "parcels_of_interest = parcel_boundaries[\n",
    "    (parcel_boundaries.CITY.str.upper().str.contains(\"NEWTON|BROOKLINE\"))\n",
    "    & (parcel_boundaries.USE_CODE.str.contains(\"^101\"))\n",
    "]"
   ]
  },
  {
   "cell_type": "code",
   "execution_count": null,
   "id": "e3c9c603-de71-4ada-a9bb-db72cf068471",
   "metadata": {},
   "outputs": [],
   "source": [
    "map = parcels_of_interest.explore(\n",
    "    column=\"total_val_clip\",\n",
    "    popup=True,\n",
    "    tooltip=[\n",
    "        \"CITY\",\n",
    "        \"TOTAL_VAL\",\n",
    "        \"BLDG_VAL\",\n",
    "        \"LAND_VAL\",\n",
    "        \"BLD_AREA\",\n",
    "        \"YEAR_BUILT\",\n",
    "        \"OWNER1\",\n",
    "        \"RES_AREA\",\n",
    "        \"STYLE\",\n",
    "    ],\n",
    "    legend=False,\n",
    "    cmap=\"viridis\",\n",
    ")\n",
    "folium.TileLayer(\"openstreetmap\", opacity=0.5, name=\"OpenStreetMap .5\", show=False).add_to(map)\n",
    "folium.TileLayer(\"cartodb positron\", show=True).add_to(map)\n",
    "folium.LayerControl().add_to(map)\n",
    "\n",
    "map"
   ]
  },
  {
   "cell_type": "markdown",
   "id": "6e619010-c56b-4d1a-ab11-2b6418c72b5c",
   "metadata": {},
   "source": [
    "# Using SQL in Polars"
   ]
  },
  {
   "cell_type": "markdown",
   "id": "586ff1a4-29bf-406b-b904-8dbe3a74fb02",
   "metadata": {},
   "source": [
    "## Average sale price by year"
   ]
  },
  {
   "cell_type": "code",
   "execution_count": null,
   "id": "a0dc0631-9274-43c6-bda4-6e81d60df31d",
   "metadata": {},
   "outputs": [],
   "source": [
    "# Requires:\n",
    "#   Sales prices under $7M\n",
    "#   Avg sale per town <= $2M and avg sale per town >= $400k\n",
    "#   Must have >= 3 years of data\n",
    "#   Must have >= 100 sales in each year\n",
    "query = \"\"\"\n",
    "WITH avg_sale_price_by_year AS (\n",
    "    SELECT\n",
    "      AVG(LS_PRICE) AS ls_avg_price,\n",
    "      TAXING_TOWN,\n",
    "      ls_year,\n",
    "      COUNT(*) AS num_sales\n",
    "    FROM frame\n",
    "    WHERE ls_year IN (2019, 2020, 2021, 2022, 2022) AND LS_PRICE != 0 AND LS_PRICE < 7000000\n",
    "    GROUP BY TAXING_TOWN, ls_year\n",
    "    HAVING ls_avg_price >= 400000 AND ls_avg_price <= 2000000 AND num_sales >= 200\n",
    "    ORDER BY TAXING_TOWN, ls_year\n",
    "),\n",
    "\n",
    "add_window_functions AS (\n",
    "    SELECT\n",
    "        *,\n",
    "        MIN(num_sales) OVER(PARTITION BY TAXING_TOWN) AS min_sales_in_lowest_year,\n",
    "        MAX(ls_year) OVER(PARTITION BY TAXING_TOWN) - MIN(ls_year) OVER(PARTITION BY TAXING_TOWN) + 1 AS years_in_range\n",
    "    FROM avg_sale_price_by_year\n",
    ")\n",
    "\n",
    "SELECT *\n",
    "FROM add_window_functions\n",
    "WHERE min_sales_in_lowest_year >= 100 AND years_in_range >= 3\n",
    "\"\"\"\n",
    "_df = pl.SQLContext(frame=residential).execute(query, eager=True)\n",
    "_df.head(10)"
   ]
  },
  {
   "cell_type": "code",
   "execution_count": null,
   "id": "79d37653-fb71-4c96-96d0-a987280e3d55",
   "metadata": {},
   "outputs": [],
   "source": [
    "# Unusued atm, can calculate YoY increases.\n",
    "# _df = _df.with_columns(\n",
    "#     (pl.col(\"LS_AVG_PRICE\") / pl.col(\"LS_AVG_PRICE\").shift(1).over('TAXING_TOWN')).fill_null(1).alias('PCT_INCREASE')\n",
    "# )"
   ]
  },
  {
   "cell_type": "markdown",
   "id": "c7f0162e-6b82-4c63-92a6-882a016b7576",
   "metadata": {},
   "source": [
    "## Average sale price by year visual"
   ]
  },
  {
   "cell_type": "code",
   "execution_count": null,
   "id": "3cca0de2-ccc4-4bd5-a075-ee42f9209172",
   "metadata": {},
   "outputs": [],
   "source": [
    "fig = px.line(\n",
    "    _df.drop_nulls().to_pandas(),\n",
    "    x=\"ls_year\",\n",
    "    y=\"ls_avg_price\",\n",
    "    color=\"TAXING_TOWN\",\n",
    "    markers=True,\n",
    "    custom_data=[\"TAXING_TOWN\", \"num_sales\"],\n",
    "    height=600,\n",
    ")\n",
    "fig.update_traces(\n",
    "    hovertemplate=\"<br>\".join(\n",
    "        [\n",
    "            \"%{customdata[0]}\",\n",
    "            \"Year: %{x}\",\n",
    "            \"Avg Price: %{y}\",\n",
    "            \"NUM_SALES: %{customdata[1]}\",\n",
    "        ]\n",
    "    )\n",
    ")\n",
    "fig.show()"
   ]
  }
 ],
 "metadata": {
  "kernelspec": {
   "display_name": "geo_explorer",
   "language": "python",
   "name": "geo_explorer"
  },
  "language_info": {
   "codemirror_mode": {
    "name": "ipython",
    "version": 3
   },
   "file_extension": ".py",
   "mimetype": "text/x-python",
   "name": "python",
   "nbconvert_exporter": "python",
   "pygments_lexer": "ipython3",
   "version": "3.11.7"
  }
 },
 "nbformat": 4,
 "nbformat_minor": 5
}
